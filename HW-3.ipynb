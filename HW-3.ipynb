{
 "cells": [
  {
   "cell_type": "code",
   "execution_count": 1,
   "id": "fe9a8a2f",
   "metadata": {},
   "outputs": [],
   "source": [
    "import matplotlib.pyplot as plt\n",
    "import numpy as np\n",
    "\n",
    "%matplotlib inline\n",
    "import warnings\n",
    "warnings.filterwarnings('ignore')"
   ]
  },
  {
   "cell_type": "markdown",
   "id": "95e7724d",
   "metadata": {},
   "source": [
    "**1*. Измените функцию calc_logloss так, чтобы нули по возможности не попадали в np.log.**"
   ]
  },
  {
   "cell_type": "code",
   "execution_count": 2,
   "id": "1e680224",
   "metadata": {},
   "outputs": [],
   "source": [
    "def calc_logloss(y, y_pred):\n",
    "    for i in y_pred:                                #  ----------- добавила -----------\n",
    "        if i == 0:                                  #  ----------- добавила -----------\n",
    "            err = 0.0                               #  ----------- добавила -----------\n",
    "        else:                                       #  ----------- добавила -----------\n",
    "            err = - np.mean(y * np.log(y_pred) + (1.0 - y) * np.log(1.0 - y_pred))\n",
    "    return err\n"
   ]
  },
  {
   "cell_type": "code",
   "execution_count": 3,
   "id": "b5b5afc7",
   "metadata": {},
   "outputs": [
    {
     "data": {
      "text/plain": [
       "0.164252033486018"
      ]
     },
     "execution_count": 3,
     "metadata": {},
     "output_type": "execute_result"
    }
   ],
   "source": [
    "# Пример применения без 0\n",
    "y1 = np.array([1, 0])\n",
    "y_pred1 = np.array([0.8, 0.1])\n",
    "calc_logloss(y1, y_pred1)"
   ]
  },
  {
   "cell_type": "code",
   "execution_count": 4,
   "id": "34917363",
   "metadata": {},
   "outputs": [
    {
     "data": {
      "text/plain": [
       "0.0"
      ]
     },
     "execution_count": 4,
     "metadata": {},
     "output_type": "execute_result"
    }
   ],
   "source": [
    "# Плохой пример применения с 0\n",
    "y1 = np.array([1, 0])\n",
    "y_pred1 = np.array([0.9, 0])\n",
    "calc_logloss(y1, y_pred1)"
   ]
  },
  {
   "cell_type": "markdown",
   "id": "5d9f1f1e",
   "metadata": {},
   "source": [
    "**2. Подберите аргументы функции eval_model для логистической регрессии таким образом, чтобы log loss был минимальным.**"
   ]
  },
  {
   "cell_type": "code",
   "execution_count": 5,
   "id": "bc5d91ec",
   "metadata": {},
   "outputs": [],
   "source": [
    "X = np.array([ [   1,    1,  500,    1],\n",
    "               [   1,    1,  700,    1],\n",
    "               [   1,    2,  750,    2],\n",
    "               [   1,    5,  600,    1],\n",
    "               [   1,    3, 1450,    2],\n",
    "               [   1,    0,  800,    1],\n",
    "               [   1,    5, 1500,    3],\n",
    "               [   1,   10, 2000,    3],\n",
    "               [   1,    1,  450,    1],\n",
    "               [   1,    2, 1000,    2]], dtype=np.float64)\n",
    "\n",
    "y = np.array([0, 0, 1, 0, 1, 0, 1, 0, 1, 1], dtype=np.float64)"
   ]
  },
  {
   "cell_type": "code",
   "execution_count": 6,
   "id": "459b59ae",
   "metadata": {},
   "outputs": [],
   "source": [
    "def sigmoid(z):\n",
    "    res = 1 / (1 + np.exp(-z))\n",
    "    return res"
   ]
  },
  {
   "cell_type": "code",
   "execution_count": 7,
   "id": "fe1ce39f",
   "metadata": {},
   "outputs": [],
   "source": [
    "def standard_scale(x):\n",
    "    res = (x - x.mean()) / x.std()\n",
    "    return res"
   ]
  },
  {
   "cell_type": "code",
   "execution_count": 8,
   "id": "d5cb2178",
   "metadata": {},
   "outputs": [],
   "source": [
    "X_st = X.copy()\n",
    "X_st[:, 2] = standard_scale(X[:, 2])"
   ]
  },
  {
   "cell_type": "code",
   "execution_count": 9,
   "id": "15d94e16",
   "metadata": {},
   "outputs": [
    {
     "data": {
      "text/plain": [
       "array([[ 1.        ,  1.        , -0.97958969,  1.        ],\n",
       "       [ 1.        ,  1.        , -0.56713087,  1.        ],\n",
       "       [ 1.        ,  2.        , -0.46401617,  2.        ],\n",
       "       [ 1.        ,  5.        , -0.77336028,  1.        ],\n",
       "       [ 1.        ,  3.        ,  0.97958969,  2.        ],\n",
       "       [ 1.        ,  0.        , -0.36090146,  1.        ],\n",
       "       [ 1.        ,  5.        ,  1.08270439,  3.        ],\n",
       "       [ 1.        , 10.        ,  2.11385144,  3.        ],\n",
       "       [ 1.        ,  1.        , -1.08270439,  1.        ],\n",
       "       [ 1.        ,  2.        ,  0.05155735,  2.        ]])"
      ]
     },
     "execution_count": 9,
     "metadata": {},
     "output_type": "execute_result"
    }
   ],
   "source": [
    "X_st"
   ]
  },
  {
   "cell_type": "code",
   "execution_count": 10,
   "id": "f0a41958",
   "metadata": {},
   "outputs": [],
   "source": [
    "def eval_model(X, y, iterations, eta=1e-4):\n",
    "    np.random.seed(42)\n",
    "    W = np.random.randn(X.shape[1])\n",
    "    n = X.shape[0]\n",
    "    print('W: ', W)\n",
    "    print('n: ', n)\n",
    "    print('np.dot(X, W): ', np.dot(X, W))\n",
    "    print('sigmoid(z): ', sigmoid(np.dot(X, W)))\n",
    "    for i in range(iterations):\n",
    "        z = np.dot(X, W)\n",
    "        y_pred = sigmoid(z)\n",
    "        err = calc_logloss(y, y_pred)\n",
    "#         print (y_pred)\n",
    "        \n",
    "        dQ = 1/n * X.T @ (y_pred - y)\n",
    "        W -= eta * dQ\n",
    "        if i % (iterations / 10) == 0:\n",
    "            print(i, W, err)\n",
    "            \n",
    "    return W"
   ]
  },
  {
   "cell_type": "code",
   "execution_count": 11,
   "id": "aacf0bbf",
   "metadata": {},
   "outputs": [
    {
     "name": "stdout",
     "output_type": "stream",
     "text": [
      "W:  [ 0.49671415 -0.1382643   0.64768854  1.52302986]\n",
      "n:  10\n",
      "np.dot(X, W):  [1.24701069 1.51415554 2.96570731 0.82752591 3.76244998 1.78599227\n",
      " 5.07573744 5.05227806 1.18022448 3.29963837]\n",
      "sigmoid(z):  [0.77678197 0.81967624 0.95100063 0.69583154 0.97730047 0.85643521\n",
      " 0.9937923  0.99364588 0.76498816 0.9644164 ]\n",
      "0 [ 0.11732727 -1.58914029  0.62030812  0.95688359] 1.1785958344356262\n",
      "3200 [-19.69971896  -2.15981759  -5.07831815  16.3900246 ] 0.16684375125461876\n",
      "6400 [-27.56595072  -2.86929655  -7.33031741  22.77910414] 0.13241151800390857\n",
      "9600 [-33.02322626  -3.36225738  -8.87276153  27.19496579] 0.11607491698326718\n",
      "12800 [-37.30256711  -3.74466013 -10.07949207  30.64164558] 0.10610342849980706\n",
      "16000 [-40.89301056  -4.06021592 -11.09408531  33.51879367] 0.09912113511864047\n",
      "19200 [-44.03495993  -4.33081077 -11.98576537  36.02301121] 0.09379851399459645\n",
      "22400 [-46.863349    -4.56888384 -12.79286435  38.26474586] 0.08950339523244644\n",
      "25600 [-49.46104065  -4.78217478 -13.53865245  40.31195185] 0.0858949091619485\n",
      "28800 [-51.88229256  -4.97584815 -14.23818566  42.20929059] 0.08277204605516478\n"
     ]
    }
   ],
   "source": [
    "W = eval_model(X_st, y, iterations=32000, eta=1)"
   ]
  },
  {
   "cell_type": "markdown",
   "id": "169182aa",
   "metadata": {},
   "source": [
    "*минимальная ошибка составила 0,082 при параметрах шага = 1 и кол-во итераций 32000. Если брать шаг 1,2, то это уже будет большой шаг, т.к. ошибка начинает то увеличиваться, то уменьшаться, поэтому шаг взять как 1. А если брать больше итераций, то ошибка выводится как nan.*"
   ]
  },
  {
   "cell_type": "markdown",
   "id": "6c65da59",
   "metadata": {},
   "source": [
    "**3. Создайте функцию calc_pred_proba, возвращающую предсказанную вероятность класса 1 (на вход подаются W, который уже посчитан функцией eval_model и X, на выходе - массив y_pred_proba).**"
   ]
  },
  {
   "cell_type": "code",
   "execution_count": 12,
   "id": "a74c45fa",
   "metadata": {},
   "outputs": [],
   "source": [
    "def calc_pred_proba(X, W):\n",
    "\n",
    "    y_pred_proba = 1 / (1 + np.exp(- (np.dot(X, W))))\n",
    "    return y_pred_proba"
   ]
  },
  {
   "cell_type": "code",
   "execution_count": 13,
   "id": "776a2926",
   "metadata": {},
   "outputs": [
    {
     "data": {
      "text/plain": [
       "array([3.24586616e-01, 1.02810703e-03, 1.00000000e+00, 2.48070153e-11,\n",
       "       9.77082842e-01, 8.17372181e-03, 1.00000000e+00, 5.28863441e-03,\n",
       "       6.90783806e-01, 1.00000000e+00])"
      ]
     },
     "execution_count": 13,
     "metadata": {},
     "output_type": "execute_result"
    }
   ],
   "source": [
    "calc_pred_proba(X_st, W)"
   ]
  },
  {
   "cell_type": "markdown",
   "id": "be8e5500",
   "metadata": {},
   "source": [
    "**4. Создайте функцию calc_pred, возвращающую предсказанный класс (на вход подаются W, который уже посчитан функцией eval_model и X, на выходе - массив y_pred).**"
   ]
  },
  {
   "cell_type": "code",
   "execution_count": 14,
   "id": "b055ebf7",
   "metadata": {},
   "outputs": [],
   "source": [
    "def calc_pred(W, X):\n",
    "    m = X.shape[0]\n",
    "    \n",
    "    y_pred = np.zeros(m)\n",
    "\n",
    "    \n",
    "    A = np.squeeze(sigmoid(np.dot(X, W)))\n",
    "\n",
    "    # За порог отнесения к тому или иному классу примем вероятность 0.5\n",
    "    for i in range(A.shape[0]):\n",
    "        if (A[i] > 0.5): \n",
    "            y_pred[i] = 1\n",
    "        elif (A[i] <= 0.5):\n",
    "            y_pred[i] = 0\n",
    "\n",
    "    return y_pred"
   ]
  },
  {
   "cell_type": "code",
   "execution_count": 15,
   "id": "b80d621c",
   "metadata": {},
   "outputs": [
    {
     "data": {
      "text/plain": [
       "array([0., 0., 1., 0., 1., 0., 1., 0., 1., 1.])"
      ]
     },
     "execution_count": 15,
     "metadata": {},
     "output_type": "execute_result"
    }
   ],
   "source": [
    "calc_pred(W, X_st)"
   ]
  },
  {
   "cell_type": "markdown",
   "id": "f8db0aa5",
   "metadata": {},
   "source": [
    "**6. Могла ли модель переобучиться? Почему?**"
   ]
  },
  {
   "cell_type": "markdown",
   "id": "cc6d0f06",
   "metadata": {},
   "source": [
    "*Считаю, что модель не переобучилась, т.к. ошибка скатывается к минимуму плавно без разбросов в + или - от текущего значения ошибки.*"
   ]
  }
 ],
 "metadata": {
  "kernelspec": {
   "display_name": "Python 3",
   "language": "python",
   "name": "python3"
  },
  "language_info": {
   "codemirror_mode": {
    "name": "ipython",
    "version": 3
   },
   "file_extension": ".py",
   "mimetype": "text/x-python",
   "name": "python",
   "nbconvert_exporter": "python",
   "pygments_lexer": "ipython3",
   "version": "3.8.8"
  }
 },
 "nbformat": 4,
 "nbformat_minor": 5
}
